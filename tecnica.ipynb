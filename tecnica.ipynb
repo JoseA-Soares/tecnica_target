{
 "cells": [
  {
   "cell_type": "markdown",
   "metadata": {},
   "source": [
    "1) Observe o trecho de código abaixo: int INDICE = 13, SOMA = 0, K = 0;\n",
    "Enquanto K < INDICE faça { K = K + 1; SOMA = SOMA + K; }\n",
    "Imprimir(SOMA);\n",
    "Ao final do processamento, qual será o valor da variável SOMA?\n",
    "\n",
    "R:91."
   ]
  },
  {
   "cell_type": "markdown",
   "metadata": {},
   "source": [
    "2) Dado a sequência de Fibonacci, onde se inicia por 0 e 1 e o próximo valor sempre será a soma dos 2 valores anteriores (exemplo: 0, 1, 1, 2, 3, 5, 8, 13, 21, 34...), escreva um programa na linguagem que desejar onde, informado um número, ele calcule a sequência de Fibonacci e retorne uma mensagem avisando se o número informado pertence ou não a sequência."
   ]
  },
  {
   "cell_type": "code",
   "execution_count": 3,
   "metadata": {},
   "outputs": [
    {
     "name": "stdout",
     "output_type": "stream",
     "text": [
      "O número não pertence a sequeência de fibonacci.\n"
     ]
    }
   ],
   "source": [
    "def fibonacci(n):\n",
    "    n1, n2 = 0, 1\n",
    "    while n1 <= n:\n",
    "        if n1 == n:\n",
    "            return f\"O número pertence a sequência de fibonacci.\"\n",
    "        n1, n2 = n2, n1+n2\n",
    "    return f\"O número não pertence a sequeência de fibonacci.\"\n",
    "\n",
    "num = int(input(\"Informe um número: \"))\n",
    "res = fibonacci(num)\n",
    "print(res)\n",
    "\n",
    "    "
   ]
  },
  {
   "cell_type": "markdown",
   "metadata": {},
   "source": [
    "3) Dado um vetor que guarda o valor de faturamento diário de uma distribuidora, faça um programa, na linguagem que desejar, que calcule e retorne:\n",
    "• O menor valor de faturamento ocorrido em um dia do mês;\n",
    "• O maior valor de faturamento ocorrido em um dia do mês;\n",
    "• Número de dias no mês em que o valor de faturamento diário foi superior à média mensal.\n",
    "\n",
    "IMPORTANTE:\n",
    "a) Usar o json ou xml disponível como fonte dos dados do faturamento mensal;\n",
    "b) Podem existir dias sem faturamento, como nos finais de semana e feriados. Estes dias devem ser ignorados no cálculo da média;"
   ]
  },
  {
   "cell_type": "code",
   "execution_count": 5,
   "metadata": {},
   "outputs": [
    {
     "name": "stdout",
     "output_type": "stream",
     "text": [
      "Menor faturamento: 373.78\n",
      "Maior faturamento: 48924.24\n",
      "Número de dias com faturamento acima da média: 10\n"
     ]
    }
   ],
   "source": [
    "import json\n",
    "\n",
    "with open('dados.json', 'r') as file:\n",
    "    faturamentos = json.load(file)\n",
    "faturamento = [dia['valor'] for dia in faturamentos if dia['valor'] > 0]\n",
    "\n",
    "menor_f = min(faturamento)\n",
    "maior_f = max(faturamento)\n",
    "media_f = sum(faturamento) / len(faturamento)\n",
    "\n",
    "acima_m = sum(1 for valor in faturamento if valor > media_f)\n",
    "\n",
    "# Exibir resultados\n",
    "print(f\"Menor faturamento: {menor_f:.2f}\")\n",
    "print(f\"Maior faturamento: {maior_f:.2f}\")\n",
    "print(f\"Número de dias com faturamento acima da média: {acima_m}\")"
   ]
  },
  {
   "cell_type": "markdown",
   "metadata": {},
   "source": [
    "Dado o valor de faturamento mensal de uma distribuidora, detalhado por estado:\n",
    "• SP – R$67.836,43\n",
    "• RJ – R$36.678,66\n",
    "• MG – R$29.229,88\n",
    "• ES – R$27.165,48\n",
    "• Outros – R$19.849,53\n",
    "\n",
    "Escreva um programa na linguagem que desejar onde calcule o percentual de representação que cada estado teve dentro do valor total mensal da distribuidora. "
   ]
  },
  {
   "cell_type": "code",
   "execution_count": 5,
   "metadata": {},
   "outputs": [
    {
     "name": "stdout",
     "output_type": "stream",
     "text": [
      "Valor total de faturamento: R$180759.98\n",
      "\n",
      "Porcentagem de faturamento por estado:\n",
      "SP: 37.53%\n",
      "RJ: 20.29%\n",
      "MG: 16.17%\n",
      "ES: 15.03%\n",
      "Outros: 10.98%\n"
     ]
    }
   ],
   "source": [
    "faturamento_por_estado = {\n",
    "    \"SP\": 67836.43,\n",
    "    \"RJ\": 36678.66,\n",
    "    \"MG\": 29229.88,\n",
    "    \"ES\": 27165.48,\n",
    "    \"Outros\": 19849.53\n",
    "}\n",
    "\n",
    "faturamento_t = sum(faturamento_por_estado.values())\n",
    "\n",
    "porcen = {estado: (valor / faturamento_t) * 100 for estado, valor in faturamento_por_estado.items()}\n",
    "\n",
    "print(f\"Valor total de faturamento: R${faturamento_t:.2f}\")\n",
    "\n",
    "print(\"\\nPorcentagem de faturamento por estado:\")\n",
    "for estado, porcentagem in porcen.items():\n",
    "    print(f\"{estado}: {porcentagem:.2f}%\")"
   ]
  },
  {
   "cell_type": "markdown",
   "metadata": {},
   "source": [
    "5) Escreva um programa que inverta os caracteres de um string."
   ]
  },
  {
   "cell_type": "code",
   "execution_count": 4,
   "metadata": {},
   "outputs": [
    {
     "name": "stdout",
     "output_type": "stream",
     "text": [
      "etset\n"
     ]
    }
   ],
   "source": [
    "def inverter(s):\n",
    "    invertida = ''\n",
    "    \n",
    "    for i in range(len(s)-1,-1,-1):\n",
    "        invertida += s[i]\n",
    "    \n",
    "    return invertida\n",
    "\n",
    "strg = input(\"Digite algo\")\n",
    "invertido = inverter(strg)\n",
    "\n",
    "print(invertido)"
   ]
  }
 ],
 "metadata": {
  "kernelspec": {
   "display_name": "base",
   "language": "python",
   "name": "python3"
  },
  "language_info": {
   "codemirror_mode": {
    "name": "ipython",
    "version": 3
   },
   "file_extension": ".py",
   "mimetype": "text/x-python",
   "name": "python",
   "nbconvert_exporter": "python",
   "pygments_lexer": "ipython3",
   "version": "3.11.7"
  }
 },
 "nbformat": 4,
 "nbformat_minor": 2
}
